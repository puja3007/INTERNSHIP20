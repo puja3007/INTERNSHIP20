{
 "cells": [
  {
   "cell_type": "markdown",
   "metadata": {},
   "source": [
    "FIND THE FACORIAL OF A NUMBER"
   ]
  },
  {
   "cell_type": "code",
   "execution_count": 21,
   "metadata": {},
   "outputs": [
    {
     "name": "stdout",
     "output_type": "stream",
     "text": [
      "the factorial of 11 is 39916800\n"
     ]
    }
   ],
   "source": [
    "num=11\n",
    "factorial=1\n",
    "if num < 0:\n",
    "    print(\"sorry factorial for this numb does not exist  \")\n",
    "elif num==0 :\n",
    "    print('the factorial of 0 is 1')\n",
    "else:\n",
    "    for i in range(1,num+1):\n",
    "        factorial = factorial*i\n",
    "print('the factorial of',num,\"is\",factorial)"
   ]
  },
  {
   "cell_type": "markdown",
   "metadata": {},
   "source": [
    "FIND WHETHER THE NUMB IS PRIME OR COMPOSITE"
   ]
  },
  {
   "cell_type": "code",
   "execution_count": 23,
   "metadata": {},
   "outputs": [
    {
     "name": "stdout",
     "output_type": "stream",
     "text": [
      "3 is the prime number\n"
     ]
    }
   ],
   "source": [
    "N=3\n",
    "flag = False\n",
    "if N>1:\n",
    "    for i in range(2,N):\n",
    "        if (N %i)==0:\n",
    "            flag= True\n",
    "            break \n",
    "if flag:\n",
    "    print( N,\"is not the prime numner\")\n",
    "else:\n",
    "    print(N,\"is the prime number\")"
   ]
  },
  {
   "cell_type": "markdown",
   "metadata": {},
   "source": [
    "WHETHER THE GIVEN STRING IS PALINDROME OR NOT"
   ]
  },
  {
   "cell_type": "code",
   "execution_count": 8,
   "metadata": {},
   "outputs": [
    {
     "name": "stdout",
     "output_type": "stream",
     "text": [
      "no\n"
     ]
    }
   ],
   "source": [
    "x= \"puja\"\n",
    "w=  \" \"\n",
    "for i in x:\n",
    "        w = i + w\n",
    "if(x == w):\n",
    "    print(\"it is\")\n",
    "else:\n",
    "    print('no')"
   ]
  },
  {
   "cell_type": "markdown",
   "metadata": {},
   "source": [
    "find the hypotenus"
   ]
  },
  {
   "cell_type": "code",
   "execution_count": 3,
   "metadata": {},
   "outputs": [],
   "source": [
    "import math"
   ]
  },
  {
   "cell_type": "code",
   "execution_count": 4,
   "metadata": {},
   "outputs": [
    {
     "name": "stdout",
     "output_type": "stream",
     "text": [
      "base:3\n",
      "height:4\n",
      "enter angle:90\n",
      "hypo= 5.0\n"
     ]
    }
   ],
   "source": [
    "a= float(input(\"base:\"))\n",
    "b=float(input(\"height:\"))\n",
    "x=float(input(\"enter angle:\"))\n",
    "c= math.sqrt(a**2 + b**2)\n",
    "print(\"hypo=\",c)"
   ]
  },
  {
   "cell_type": "markdown",
   "metadata": {},
   "source": [
    "find the frequency of each character i the given string\n"
   ]
  },
  {
   "cell_type": "code",
   "execution_count": 7,
   "metadata": {},
   "outputs": [
    {
     "name": "stdout",
     "output_type": "stream",
     "text": [
      "enter the string:string\n",
      "g,0\n",
      "g,0\n",
      "g,0\n",
      "g,0\n",
      "g,0\n",
      "g,1\n"
     ]
    }
   ],
   "source": [
    "string=input(\"enter the string:\")\n",
    "str1=list(string)\n",
    "strlist=[]\n",
    "for j in str1:\n",
    "    if j not in strlist:\n",
    "        strlist.append(j)\n",
    "        count=0\n",
    "        \n",
    "for i in range(len(str1)):\n",
    "    if j==str1[i]:\n",
    "        count+=1\n",
    "    print(\"{},{}\".format(j,count))"
   ]
  },
  {
   "cell_type": "code",
   "execution_count": null,
   "metadata": {},
   "outputs": [],
   "source": []
  }
 ],
 "metadata": {
  "kernelspec": {
   "display_name": "Python 3",
   "language": "python",
   "name": "python3"
  },
  "language_info": {
   "codemirror_mode": {
    "name": "ipython",
    "version": 3
   },
   "file_extension": ".py",
   "mimetype": "text/x-python",
   "name": "python",
   "nbconvert_exporter": "python",
   "pygments_lexer": "ipython3",
   "version": "3.8.5"
  }
 },
 "nbformat": 4,
 "nbformat_minor": 4
}
